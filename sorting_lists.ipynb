{
 "cells": [
  {
   "cell_type": "code",
   "execution_count": null,
   "metadata": {},
   "outputs": [],
   "source": [
    "import time\n",
    "\"\"\"BUBBLE SORTING\"\"\"\n",
    "start_time = time.time()\n",
    "\n",
    "def Bubble_sorting(numbers): # Defining our function\n",
    "    for i in range(len(numbers)-1, 0, -1):  #Outer loop to determine how many times inner loop should run\n",
    "        for j in range(i): \n",
    "            if numbers[j] > numbers[j+1]:\n",
    "                # if the above condition is true, we swap values\n",
    "                temp = numbers[j]\n",
    "                numbers[j] = numbers[j+1]\n",
    "                numbers[j+1] = temp\n",
    "    return numbers\n",
    "\n",
    "un_sorted_numbers = [34, 23, 45, 78, 12, 90, 7, 5]\n",
    "\n",
    "print(f'Sorted list is: {Bubble_sorting(un_sorted_numbers)}')\n",
    "end_time = time.time()\n",
    "range = end_time - start_time\n",
    "print(f'Time taken for the code to run is: {range}')\n",
    "            "
   ]
  },
  {
   "cell_type": "code",
   "execution_count": 25,
   "metadata": {},
   "outputs": [
    {
     "name": "stdout",
     "output_type": "stream",
     "text": [
      "[4, 12, 21, 23, 34, 34, 76, 89, 98]\n",
      "Time taken is: 0.0013592243194580078\n"
     ]
    }
   ],
   "source": [
    "\"\"\"MERGE SORT\"\"\"\n",
    "import time\n",
    "start_time = time.time()\n",
    "def merge_sort(arr):\n",
    "    if len(arr) > 1:\n",
    "        mid = len(arr) // 2\n",
    "        left_half = arr[:mid]\n",
    "        right_half = arr[mid:]\n",
    "\n",
    "        merge_sort(left_half)\n",
    "        merge_sort(right_half)\n",
    "\n",
    "        i = j = k = 0\n",
    "\n",
    "        while i < len(left_half) and j < len(right_half):\n",
    "            if left_half[i] < right_half[j]:\n",
    "                arr[k] = left_half[i]\n",
    "                i += 1\n",
    "            else:\n",
    "                arr[k] = right_half[j]\n",
    "                j += 1\n",
    "            k += 1\n",
    "\n",
    "        while i < len(left_half):\n",
    "            arr[k] = left_half[i]\n",
    "            i += 1\n",
    "            k += 1\n",
    "\n",
    "        while j < len(right_half):\n",
    "            arr[k] = right_half[j]\n",
    "            j += 1\n",
    "            k += 1\n",
    "\n",
    "    return arr\n",
    "array = [34, 21, 34, 89, 12, 4, 23, 98, 76]\n",
    "end_time = time.time()\n",
    "\n",
    "print(merge_sort(array))\n",
    "range = end_time - start_time \n",
    "print(f'Time taken for the code to run is: {range}')\n"
   ]
  },
  {
   "cell_type": "code",
   "execution_count": 2,
   "metadata": {},
   "outputs": [
    {
     "name": "stdout",
     "output_type": "stream",
     "text": [
      "Sorted array is:\n",
      "11\n",
      "12\n",
      "22\n",
      "25\n",
      "64\n"
     ]
    }
   ],
   "source": [
    "\"\"\"SELECTION SORT\"\"\"\n",
    "import time\n",
    "start_time = time.time()\n",
    "def selectionSort(array, size):\n",
    "    for ind in range(size):\n",
    "        min_index = ind\n",
    "        for j in range(ind + 1, size):\n",
    "            if array[j] < array[min_index]:\n",
    "                min_index = j\n",
    "\n",
    "        array[ind], array[min_index] = array[min_index], array[ind]\n",
    "\n",
    "arr = [12, 3, 2, 1, 78, 9, 87, 23,977]\n",
    "size = len(arr)\n",
    "selectionSort(arr, size)\n",
    "print(\"Sorted array is:\")\n",
    "for i in range(size):\n",
    "    print(\"%d\" % arr[i])\n",
    "\n",
    "range = end_time - start_time \n",
    "print(f'Time taken is: {range}')"
   ]
  },
  {
   "cell_type": "code",
   "execution_count": 4,
   "metadata": {},
   "outputs": [
    {
     "name": "stdout",
     "output_type": "stream",
     "text": [
      "Sorted array is:\n",
      "11\n",
      "12\n",
      "22\n",
      "25\n",
      "64\n"
     ]
    }
   ],
   "source": [
    "\"\"\"INSERTION SORT\"\"\"\n",
    "import time\n",
    "start_time = time.time()\n",
    "def insertionSort(arr):\n",
    "    for i in range(1, len(arr)):\n",
    "        key = arr[i]\n",
    "        j = i - 1\n",
    "        while j >= 0 and key < arr[j]:\n",
    "            arr[j + 1] = arr[j]\n",
    "            j -= 1\n",
    "        arr[j + 1] = key\n",
    "\n",
    "arr = [89, 12, 78, 9, 67, 34, 23, 45, 56]\n",
    "insertionSort(arr)\n",
    "print(\"Sorted array is:\")\n",
    "for i in range(len(arr)):\n",
    "    print(\"%d\" % arr[i])\n",
    "range = end_time - start_time \n",
    "print(f'Time taken is: {range}')\n"
   ]
  },
  {
   "cell_type": "code",
   "execution_count": 6,
   "metadata": {},
   "outputs": [
    {
     "name": "stdout",
     "output_type": "stream",
     "text": [
      "Sorted array is:\n",
      "11\n",
      "12\n",
      "22\n",
      "25\n",
      "64\n"
     ]
    }
   ],
   "source": [
    "\"\"\"QUICK SORT\"\"\"\n",
    "import time\n",
    "start_time = time.time()\n",
    "def partition(array, low, high):\n",
    "    pivot = array[high]\n",
    "    i = low - 1\n",
    "    for j in range(low, high):\n",
    "        if array[j] <= pivot:\n",
    "            i += 1\n",
    "            array[i], array[j] = array[j], array[i]\n",
    "    array[i + 1], array[high] = array[high], array[i + 1]\n",
    "    return i + 1\n",
    "\n",
    "def quickSort(array, low, high):\n",
    "    if low < high:\n",
    "        pi = partition(array, low, high)\n",
    "        quickSort(array, low, pi - 1)\n",
    "        quickSort(array, pi + 1, high)\n",
    "\n",
    "arr = [23, 67, 12, 90, 212, 12, 67,97]\n",
    "size = len(arr)\n",
    "quickSort(arr, 0, size - 1)\n",
    "print(\"Sorted array is:\")\n",
    "for i in range(size):\n",
    "    print(\"%d\" % arr[i])\n",
    "\n",
    "range = end_time - start_time \n",
    "print(f'Time taken for the code to run is: {range}')\n"
   ]
  },
  {
   "cell_type": "code",
   "execution_count": null,
   "metadata": {},
   "outputs": [],
   "source": [
    "\"\"\"BOGO SORT\"\"\"\n",
    "import random\n",
    "import time\n",
    "start_time = time.time()\n",
    "\n",
    "def bogo_sort(a):\n",
    "    n = len(a)\n",
    "    while not is_sorted(a):\n",
    "        shuffle(a)\n",
    "\n",
    "def is_sorted(a):\n",
    "    n = len(a)\n",
    "    for i in range(0, n-1):\n",
    "        if a[i] > a[i+1]:\n",
    "            return False\n",
    "    return True\n",
    "\n",
    "def shuffle(a):\n",
    "    n = len(a)\n",
    "    for i in range(0, n):\n",
    "        r = random.randint(0, n-1)\n",
    "        a[i], a[r] = a[r], a[i]\n",
    "\n",
    "a = [3, 2, 4, 1, 0, 5]\n",
    "bogo_sort(a)\n",
    "print(\"Sorted array:\")\n",
    "for i in range(len(a)):\n",
    "    print(\"%d\" %a[i])\n",
    "\n",
    "range = end_time - start_time \n",
    "print(f'Time taken for the code to run is: {range}')\n"
   ]
  },
  {
   "cell_type": "markdown",
   "metadata": {},
   "source": [
    "OBSERVATIONS:\n",
    "From the above sorts that we use in python, the most efficient sorting to use is BUBBLE SORT because;\n",
    " It is a simple sorting algorithm that repeatedly compares adjacent elements and swaps them if they are in the wrong order. It has a time complexity of O(n)\n",
    " It also uses two itelations only, that is two for loops\n",
    " It also takes small time to run"
   ]
  }
 ],
 "metadata": {
  "kernelspec": {
   "display_name": "venv",
   "language": "python",
   "name": "python3"
  },
  "language_info": {
   "codemirror_mode": {
    "name": "ipython",
    "version": 3
   },
   "file_extension": ".py",
   "mimetype": "text/x-python",
   "name": "python",
   "nbconvert_exporter": "python",
   "pygments_lexer": "ipython3",
   "version": "3.11.5"
  }
 },
 "nbformat": 4,
 "nbformat_minor": 2
}
